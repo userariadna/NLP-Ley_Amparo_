{
 "cells": [
  {
   "cell_type": "code",
   "execution_count": 1,
   "metadata": {},
   "outputs": [],
   "source": [
    "#Introduction to tokens,stopwords, lemmatization and stemming for legal texts "
   ]
  },
  {
   "cell_type": "code",
   "execution_count": 2,
   "metadata": {},
   "outputs": [],
   "source": [
    "from sklearn.feature_extraction.text import CountVectorizer "
   ]
  },
  {
   "cell_type": "code",
   "execution_count": 26,
   "metadata": {},
   "outputs": [],
   "source": [
    "sentence = [\"Artículo 24.LA.Las resoluciones que se diceten en los juicios de amparo deben notificarse a más tardar dentro del tercer día hábil siguiente, salvo en materia penal, dentro o fuera de procedimiento, en que se notoficarán inmediatamente en que sean pronunciadas.La razón que corresponda se asentará inmediatamanete después de dicha resolución.\"]"
   ]
  },
  {
   "cell_type": "code",
   "execution_count": 27,
   "metadata": {},
   "outputs": [
    {
     "data": {
      "text/plain": [
       "matrix([[1, 1, 1, 1, 1, 1, 1, 2, 1, 1, 1, 1, 4, 1, 1, 1, 1, 1, 2, 1, 1,\n",
       "         1, 1, 1, 1, 1, 1, 1, 4, 1, 1, 1, 1, 3, 1, 1, 1, 1]], dtype=int64)"
      ]
     },
     "execution_count": 27,
     "metadata": {},
     "output_type": "execute_result"
    }
   ],
   "source": [
    "vectorizer = CountVectorizer(stop_words='english')\n",
    "vectorizer.fit_transform(sentence).todense()"
   ]
  },
  {
   "cell_type": "code",
   "execution_count": 41,
   "metadata": {},
   "outputs": [],
   "source": [
    "import nltk\n",
    "text = \"Artículo 24.LA.Las resoluciones que se dicten en los juicios de amparo deben notificarse a más tardar dentro del tercer día hábil siguinete, salvo en materia penal, dentro o fuera de procedimiento, en que se notoficarán inmediatamente en que sean pronunciadas.La razón que corresponda se asentará inmediatamanete después de dicha resolución.\""
   ]
  },
  {
   "cell_type": "code",
   "execution_count": 29,
   "metadata": {},
   "outputs": [],
   "source": [
    "from nltk.tokenize import word_tokenize "
   ]
  },
  {
   "cell_type": "code",
   "execution_count": 30,
   "metadata": {},
   "outputs": [
    {
     "name": "stdout",
     "output_type": "stream",
     "text": [
      "['Artículo', '24.LA.Las', 'resoluciones', 'que', 'se', 'diceten', 'en', 'los', 'juicios', 'de', 'amparo', 'deben', 'notificarse', 'a', 'más', 'tardar', 'dentro', 'del', 'tercer', 'día', 'hábil', 'siguinete', ',', 'salvo', 'en', 'materia', 'penal', ',', 'dentro', 'o', 'fuera', 'de', 'procedimiento', ',', 'en', 'que', 'se', 'notoficarán', 'inmediatamente', 'en', 'que', 'sean', 'pronunciadas.La', 'razón', 'que', 'corresponda', 'se', 'asentará', 'inmediatamanete', 'después', 'de', 'dicha', 'resolución', '.']\n"
     ]
    }
   ],
   "source": [
    "tokens = word_tokenize(text)\n",
    "print(tokens)"
   ]
  },
  {
   "cell_type": "code",
   "execution_count": 23,
   "metadata": {},
   "outputs": [
    {
     "name": "stdout",
     "output_type": "stream",
     "text": [
      "['de', 'la', 'que', 'el', 'en', 'y', 'a', 'los', 'del', 'se', 'las', 'por', 'un', 'para', 'con', 'no', 'una', 'su', 'al', 'lo', 'como', 'más', 'pero', 'sus', 'le', 'ya', 'o', 'este', 'sí', 'porque', 'esta', 'entre', 'cuando', 'muy', 'sin', 'sobre', 'también', 'me', 'hasta', 'hay', 'donde', 'quien', 'desde', 'todo', 'nos', 'durante', 'todos', 'uno', 'les', 'ni', 'contra', 'otros', 'ese', 'eso', 'ante', 'ellos', 'e', 'esto', 'mí', 'antes', 'algunos', 'qué', 'unos', 'yo', 'otro', 'otras', 'otra', 'él', 'tanto', 'esa', 'estos', 'mucho', 'quienes', 'nada', 'muchos', 'cual', 'poco', 'ella', 'estar', 'estas', 'algunas', 'algo', 'nosotros', 'mi', 'mis', 'tú', 'te', 'ti', 'tu', 'tus', 'ellas', 'nosotras', 'vosotros', 'vosotras', 'os', 'mío', 'mía', 'míos', 'mías', 'tuyo', 'tuya', 'tuyos', 'tuyas', 'suyo', 'suya', 'suyos', 'suyas', 'nuestro', 'nuestra', 'nuestros', 'nuestras', 'vuestro', 'vuestra', 'vuestros', 'vuestras', 'esos', 'esas', 'estoy', 'estás', 'está', 'estamos', 'estáis', 'están', 'esté', 'estés', 'estemos', 'estéis', 'estén', 'estaré', 'estarás', 'estará', 'estaremos', 'estaréis', 'estarán', 'estaría', 'estarías', 'estaríamos', 'estaríais', 'estarían', 'estaba', 'estabas', 'estábamos', 'estabais', 'estaban', 'estuve', 'estuviste', 'estuvo', 'estuvimos', 'estuvisteis', 'estuvieron', 'estuviera', 'estuvieras', 'estuviéramos', 'estuvierais', 'estuvieran', 'estuviese', 'estuvieses', 'estuviésemos', 'estuvieseis', 'estuviesen', 'estando', 'estado', 'estada', 'estados', 'estadas', 'estad', 'he', 'has', 'ha', 'hemos', 'habéis', 'han', 'haya', 'hayas', 'hayamos', 'hayáis', 'hayan', 'habré', 'habrás', 'habrá', 'habremos', 'habréis', 'habrán', 'habría', 'habrías', 'habríamos', 'habríais', 'habrían', 'había', 'habías', 'habíamos', 'habíais', 'habían', 'hube', 'hubiste', 'hubo', 'hubimos', 'hubisteis', 'hubieron', 'hubiera', 'hubieras', 'hubiéramos', 'hubierais', 'hubieran', 'hubiese', 'hubieses', 'hubiésemos', 'hubieseis', 'hubiesen', 'habiendo', 'habido', 'habida', 'habidos', 'habidas', 'soy', 'eres', 'es', 'somos', 'sois', 'son', 'sea', 'seas', 'seamos', 'seáis', 'sean', 'seré', 'serás', 'será', 'seremos', 'seréis', 'serán', 'sería', 'serías', 'seríamos', 'seríais', 'serían', 'era', 'eras', 'éramos', 'erais', 'eran', 'fui', 'fuiste', 'fue', 'fuimos', 'fuisteis', 'fueron', 'fuera', 'fueras', 'fuéramos', 'fuerais', 'fueran', 'fuese', 'fueses', 'fuésemos', 'fueseis', 'fuesen', 'sintiendo', 'sentido', 'sentida', 'sentidos', 'sentidas', 'siente', 'sentid', 'tengo', 'tienes', 'tiene', 'tenemos', 'tenéis', 'tienen', 'tenga', 'tengas', 'tengamos', 'tengáis', 'tengan', 'tendré', 'tendrás', 'tendrá', 'tendremos', 'tendréis', 'tendrán', 'tendría', 'tendrías', 'tendríamos', 'tendríais', 'tendrían', 'tenía', 'tenías', 'teníamos', 'teníais', 'tenían', 'tuve', 'tuviste', 'tuvo', 'tuvimos', 'tuvisteis', 'tuvieron', 'tuviera', 'tuvieras', 'tuviéramos', 'tuvierais', 'tuvieran', 'tuviese', 'tuvieses', 'tuviésemos', 'tuvieseis', 'tuviesen', 'teniendo', 'tenido', 'tenida', 'tenidos', 'tenidas', 'tened']\n"
     ]
    }
   ],
   "source": [
    "#Partial list of Spanish stop words in NLTK. Stop words are mostly connector words that do not contribute much to the meaning of the sentence\n",
    "stopwords = nltk.corpus.stopwords.words('spanish')\n",
    "print(stopwords)"
   ]
  },
  {
   "cell_type": "code",
   "execution_count": 44,
   "metadata": {},
   "outputs": [
    {
     "name": "stdout",
     "output_type": "stream",
     "text": [
      "['Artículo', '24.LA.Las', 'resoluciones', 'dicten', 'juicios', 'amparo', 'deben', 'notificarse', 'tardar', 'dentro', 'tercer', 'día', 'hábil', 'siguinete', ',', 'salvo', 'materia', 'penal', ',', 'dentro', 'procedimiento', ',', 'notoficarán', 'inmediatamente', 'pronunciadas.La', 'razón', 'corresponda', 'asentará', 'inmediatamanete', 'después', 'dicha', 'resolución', '.']\n"
     ]
    }
   ],
   "source": [
    "newtokens = [word for word in tokens if word not in stopwords]\n",
    "print(newtokens)"
   ]
  },
  {
   "cell_type": "code",
   "execution_count": 34,
   "metadata": {},
   "outputs": [],
   "source": [
    "from nltk.stem import WordNetLemmatizer \n"
   ]
  },
  {
   "cell_type": "code",
   "execution_count": 43,
   "metadata": {},
   "outputs": [
    {
     "name": "stdout",
     "output_type": "stream",
     "text": [
      "['Artículo', '24.LA.Las', 'resoluciones', 'que', 'se', 'dicten', 'en', 'los', 'juicios', 'de', 'amparo', 'deben', 'notificarse', 'a', 'más', 'tardar', 'dentro', 'del', 'tercer', 'día', 'hábil', 'siguinete', ',', 'salvo', 'en', 'materia', 'penal', ',', 'dentro', 'o', 'fuera', 'de', 'procedimiento', ',', 'en', 'que', 'se', 'notoficarán', 'inmediatamente', 'en', 'que', 'sean', 'pronunciadas.La', 'razón', 'que', 'corresponda', 'se', 'asentará', 'inmediatamanete', 'después', 'de', 'dicha', 'resolución', '.']\n"
     ]
    }
   ],
   "source": [
    "\n",
    "tokens = word_tokenize(text)\n",
    "lemmatizer = WordNetLemmatizer()\n",
    "tokens=[lemmatizer.lemmatize(word) for word in tokens]\n",
    "print(tokens)"
   ]
  },
  {
   "cell_type": "code",
   "execution_count": 38,
   "metadata": {},
   "outputs": [],
   "source": [
    "from nltk.stem import PorterStemmer\n",
    "from nltk.tokenize import word_tokenize "
   ]
  },
  {
   "cell_type": "code",
   "execution_count": 42,
   "metadata": {},
   "outputs": [
    {
     "name": "stdout",
     "output_type": "stream",
     "text": [
      "['artículo', '24.la.la', 'resolucion', 'que', 'se', 'dicten', 'en', 'lo', 'juicio', 'de', 'amparo', 'deben', 'notificars', 'a', 'má', 'tardar', 'dentro', 'del', 'tercer', 'día', 'hábil', 'siguinet', ',', 'salvo', 'en', 'materia', 'penal', ',', 'dentro', 'o', 'fuera', 'de', 'procedimiento', ',', 'en', 'que', 'se', 'notoficarán', 'inmediatament', 'en', 'que', 'sean', 'pronunciadas.la', 'razón', 'que', 'corresponda', 'se', 'asentará', 'inmediatamanet', 'despué', 'de', 'dicha', 'resolución', '.']\n"
     ]
    }
   ],
   "source": [
    "#The following codesnippet shows an example of performing stemming using the NLTK library's PorterStemmer module:\n",
    "\n",
    "tokens = word_tokenize(text.lower())\n",
    "ps = PorterStemmer()\n",
    "tokens=[ps.stem(word) for word in tokens]\n",
    "print(tokens)"
   ]
  }
 ],
 "metadata": {
  "kernelspec": {
   "display_name": "Python 3",
   "language": "python",
   "name": "python3"
  },
  "language_info": {
   "codemirror_mode": {
    "name": "ipython",
    "version": 3
   },
   "file_extension": ".py",
   "mimetype": "text/x-python",
   "name": "python",
   "nbconvert_exporter": "python",
   "pygments_lexer": "ipython3",
   "version": "3.7.6"
  }
 },
 "nbformat": 4,
 "nbformat_minor": 4
}
